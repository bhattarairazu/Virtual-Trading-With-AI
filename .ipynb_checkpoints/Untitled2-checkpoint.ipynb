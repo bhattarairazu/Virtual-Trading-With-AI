{
 "cells": [
  {
   "cell_type": "code",
   "execution_count": 1,
   "metadata": {},
   "outputs": [
    {
     "name": "stderr",
     "output_type": "stream",
     "text": [
      "Using TensorFlow backend.\n"
     ]
    }
   ],
   "source": [
    "import numpy as np\n",
    "import pandas as pd\n",
    "from keras.layers import Dense\n",
    "from keras.layers import Dropout\n",
    "from keras.layers import LSTM\n",
    "from keras.models import Sequential\n",
    "from sklearn.preprocessing import MinMaxScaler\n",
    "import matplotlib.pyplot as plt\n",
    "%matplotlib inline"
   ]
  },
  {
   "cell_type": "code",
   "execution_count": 2,
   "metadata": {},
   "outputs": [],
   "source": [
    "dataset = pd.read_csv('fyp.csv') "
   ]
  },
  {
   "cell_type": "code",
   "execution_count": 3,
   "metadata": {},
   "outputs": [],
   "source": [
    "prices_dataset_train = dataset.iloc[:3948,:]\n",
    "prices_dataset_test = dataset.iloc[3949:,:]\n",
    "\n",
    "trainingset = dataset.iloc[:3948,5:6].values\n",
    "testset = dataset.iloc[3949:,5:6].values"
   ]
  },
  {
   "cell_type": "code",
   "execution_count": 4,
   "metadata": {},
   "outputs": [],
   "source": [
    "# NORMALIZATION\n",
    "\n",
    "min_max_scaler = MinMaxScaler(feature_range=(0,1))\n",
    "scaled_trainingset = min_max_scaler.fit_transform(trainingset)"
   ]
  },
  {
   "cell_type": "code",
   "execution_count": 17,
   "metadata": {},
   "outputs": [],
   "source": [
    "X_train = []\n",
    "y_train = []"
   ]
  },
  {
   "cell_type": "code",
   "execution_count": 18,
   "metadata": {},
   "outputs": [],
   "source": [
    "for i in range(30,3948):\n",
    "    X_train.append(scaled_trainingset[i-30:i,0])\n",
    "    y_train.append(scaled_trainingset[i,0])"
   ]
  },
  {
   "cell_type": "code",
   "execution_count": 19,
   "metadata": {},
   "outputs": [],
   "source": [
    "X_train = np.array(X_train)\n",
    "y_train = np.array(y_train)"
   ]
  },
  {
   "cell_type": "code",
   "execution_count": 21,
   "metadata": {},
   "outputs": [
    {
     "data": {
      "text/plain": [
       "(3918, 30)"
      ]
     },
     "execution_count": 21,
     "metadata": {},
     "output_type": "execute_result"
    }
   ],
   "source": [
    "X_train.shape"
   ]
  },
  {
   "cell_type": "code",
   "execution_count": 22,
   "metadata": {},
   "outputs": [
    {
     "data": {
      "text/plain": [
       "array([[0.01292709, 0.01294584, 0.01309594, ..., 0.01294584, 0.00885571,\n",
       "        0.00903395],\n",
       "       [0.01294584, 0.01309594, 0.01303028, ..., 0.00885571, 0.00903395,\n",
       "        0.00929662],\n",
       "       [0.01309594, 0.01303028, 0.01337737, ..., 0.00903395, 0.00929662,\n",
       "        0.00955929],\n",
       "       ...,\n",
       "       [0.89194915, 0.9065461 , 0.90331897, ..., 0.99240139, 0.99183843,\n",
       "        0.99170709],\n",
       "       [0.9065461 , 0.90331897, 0.90258722, ..., 0.99183843, 0.99170709,\n",
       "        0.99053446],\n",
       "       [0.90331897, 0.90258722, 0.90409766, ..., 0.99170709, 0.99053446,\n",
       "        0.99738266]])"
      ]
     },
     "execution_count": 22,
     "metadata": {},
     "output_type": "execute_result"
    }
   ],
   "source": [
    "X_train"
   ]
  },
  {
   "cell_type": "code",
   "execution_count": 26,
   "metadata": {},
   "outputs": [],
   "source": [
    "# input shape for LSTM architecture\n",
    "# we have to reshape the dataset (numofSamples, numofFeatures, 1)\n",
    "# We have 1 because we want to predict the price tomorrow (so 1 value)\n",
    "# numofFeatures: the past prices we use as features\n",
    "\n",
    "X_train = np.reshape(X_train, (X_train.shape[0],X_train.shape[1],1))"
   ]
  },
  {
   "cell_type": "code",
   "execution_count": 13,
   "metadata": {},
   "outputs": [
    {
     "data": {
      "text/plain": [
       "(3918, 30, 1)"
      ]
     },
     "execution_count": 13,
     "metadata": {},
     "output_type": "execute_result"
    }
   ],
   "source": [
    "X_train.shape"
   ]
  },
  {
   "cell_type": "code",
   "execution_count": 23,
   "metadata": {},
   "outputs": [],
   "source": [
    "# -------------------------- BUILDING THE LSTM MODEL ---------------------------\n",
    "\n",
    "# Let's build the LSTM architecture\n",
    "# return sequence true because we have another LSTM after this one\n",
    "\n"
   ]
  },
  {
   "cell_type": "code",
   "execution_count": null,
   "metadata": {},
   "outputs": [],
   "source": []
  }
 ],
 "metadata": {
  "kernelspec": {
   "display_name": "Python 3",
   "language": "python",
   "name": "python3"
  },
  "language_info": {
   "codemirror_mode": {
    "name": "ipython",
    "version": 3
   },
   "file_extension": ".py",
   "mimetype": "text/x-python",
   "name": "python",
   "nbconvert_exporter": "python",
   "pygments_lexer": "ipython3",
   "version": "3.7.3"
  }
 },
 "nbformat": 4,
 "nbformat_minor": 2
}
