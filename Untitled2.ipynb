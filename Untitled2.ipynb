{
 "cells": [
  {
   "cell_type": "code",
   "execution_count": 1,
   "metadata": {},
   "outputs": [
    {
     "name": "stderr",
     "output_type": "stream",
     "text": [
      "Using TensorFlow backend.\n"
     ]
    }
   ],
   "source": [
    "import numpy as np\n",
    "import pandas as pd\n",
    "from keras.layers import Dense\n",
    "from keras.layers import Dropout\n",
    "from keras.layers import LSTM\n",
    "from keras.models import Sequential\n",
    "from sklearn.preprocessing import MinMaxScaler\n",
    "import matplotlib.pyplot as plt\n",
    "%matplotlib inline"
   ]
  },
  {
   "cell_type": "code",
   "execution_count": 2,
   "metadata": {},
   "outputs": [],
   "source": [
    "dataset = pd.read_csv('fyp.csv') "
   ]
  },
  {
   "cell_type": "code",
   "execution_count": 3,
   "metadata": {},
   "outputs": [
    {
     "data": {
      "text/plain": [
       "(4935, 7)"
      ]
     },
     "execution_count": 3,
     "metadata": {},
     "output_type": "execute_result"
    }
   ],
   "source": [
    "dataset.shape"
   ]
  },
  {
   "cell_type": "code",
   "execution_count": 145,
   "metadata": {},
   "outputs": [],
   "source": [
    "prices_dataset_train = dataset.iloc[:3948,:]\n",
    "prices_dataset_test = dataset.iloc[3949:,:]\n",
    "\n",
    "trainingset = dataset.iloc[:3948,5:6].values\n",
    "testset = dataset.iloc[3949:,5:6].values"
   ]
  },
  {
   "cell_type": "code",
   "execution_count": 146,
   "metadata": {},
   "outputs": [],
   "source": [
    "# NORMALIZATION\n",
    "\n",
    "min_max_scaler = MinMaxScaler(feature_range=(0,1))\n",
    "scaled_trainingset = min_max_scaler.fit_transform(trainingset)"
   ]
  },
  {
   "cell_type": "code",
   "execution_count": 147,
   "metadata": {},
   "outputs": [],
   "source": [
    "X_train = []\n",
    "y_train = []"
   ]
  },
  {
   "cell_type": "code",
   "execution_count": 148,
   "metadata": {},
   "outputs": [],
   "source": [
    "for i in range(15,3948):\n",
    "    X_train.append(scaled_trainingset[i-15:i,0])\n",
    "    y_train.append(scaled_trainingset[i,0])"
   ]
  },
  {
   "cell_type": "code",
   "execution_count": 149,
   "metadata": {},
   "outputs": [],
   "source": [
    "X_train = np.array(X_train)\n",
    "y_train = np.array(y_train)"
   ]
  },
  {
   "cell_type": "code",
   "execution_count": 150,
   "metadata": {},
   "outputs": [
    {
     "data": {
      "text/plain": [
       "(3933, 15)"
      ]
     },
     "execution_count": 150,
     "metadata": {},
     "output_type": "execute_result"
    }
   ],
   "source": [
    "X_train.shape"
   ]
  },
  {
   "cell_type": "code",
   "execution_count": 151,
   "metadata": {},
   "outputs": [
    {
     "data": {
      "text/plain": [
       "(3933,)"
      ]
     },
     "execution_count": 151,
     "metadata": {},
     "output_type": "execute_result"
    }
   ],
   "source": [
    "y_train.shape"
   ]
  },
  {
   "cell_type": "code",
   "execution_count": 152,
   "metadata": {},
   "outputs": [
    {
     "data": {
      "text/plain": [
       "array([[0.01292709, 0.01294584, 0.01309594, ..., 0.01889343, 0.02087281,\n",
       "        0.01984091],\n",
       "       [0.01294584, 0.01309594, 0.01303028, ..., 0.02087281, 0.01984091,\n",
       "        0.02010358],\n",
       "       [0.01309594, 0.01303028, 0.01337737, ..., 0.01984091, 0.02010358,\n",
       "        0.02027242],\n",
       "       ...,\n",
       "       [0.92472655, 0.93336645, 0.94224089, ..., 0.99240139, 0.99183843,\n",
       "        0.99170709],\n",
       "       [0.93336645, 0.94224089, 0.93640591, ..., 0.99183843, 0.99170709,\n",
       "        0.99053446],\n",
       "       [0.94224089, 0.93640591, 0.92904181, ..., 0.99170709, 0.99053446,\n",
       "        0.99738266]])"
      ]
     },
     "execution_count": 152,
     "metadata": {},
     "output_type": "execute_result"
    }
   ],
   "source": [
    "X_train"
   ]
  },
  {
   "cell_type": "code",
   "execution_count": 153,
   "metadata": {},
   "outputs": [],
   "source": [
    "# input shape for LSTM architecture\n",
    "# we have to reshape the dataset (numofSamples, numofFeatures, 1)\n",
    "# We have 1 because we want to predict the price tomorrow (so 1 value)\n",
    "# numofFeatures: the past prices we use as features\n",
    "\n",
    "X_train = np.reshape(X_train, (X_train.shape[0],X_train.shape[1],1))"
   ]
  },
  {
   "cell_type": "code",
   "execution_count": 154,
   "metadata": {},
   "outputs": [
    {
     "data": {
      "text/plain": [
       "(3933, 15, 1)"
      ]
     },
     "execution_count": 154,
     "metadata": {},
     "output_type": "execute_result"
    }
   ],
   "source": [
    "X_train.shape"
   ]
  },
  {
   "cell_type": "code",
   "execution_count": 155,
   "metadata": {},
   "outputs": [],
   "source": [
    "# -------------------------- BUILDING THE LSTM MODEL ---------------------------\n",
    "\n",
    "# Let's build the LSTM architecture\n",
    "# return sequence true because we have another LSTM after this one\n",
    "\n",
    "# You need to add return_sequences=True to the first layer\n",
    "# so that its output tensor has ndim=3 (i.e. batch size, timesteps, hidden state)."
   ]
  },
  {
   "cell_type": "code",
   "execution_count": 156,
   "metadata": {},
   "outputs": [],
   "source": [
    "model = Sequential()\n",
    "model.add(LSTM(units=100, return_sequences=True, input_shape=(X_train.shape[1],1)))\n",
    "model.add(Dropout(0.5))\n",
    "model.add(LSTM(units=50, return_sequences=True))\n",
    "model.add(Dropout(0.3))\n",
    "model.add(LSTM(units=50, return_sequences=True))\n",
    "model.add(Dropout(0.2))\n",
    "model.add(LSTM(units=50))\n",
    "model.add(Dropout(0.2))\n",
    "model.add(Dense(units=1))"
   ]
  },
  {
   "cell_type": "code",
   "execution_count": 157,
   "metadata": {},
   "outputs": [
    {
     "name": "stdout",
     "output_type": "stream",
     "text": [
      "Epoch 1/100\n",
      "3933/3933 [==============================] - 4s 1ms/step - loss: 0.0096\n",
      "Epoch 2/100\n",
      "3933/3933 [==============================] - 3s 692us/step - loss: 0.0020\n",
      "Epoch 3/100\n",
      "3933/3933 [==============================] - 3s 686us/step - loss: 0.0018\n",
      "Epoch 4/100\n",
      "3933/3933 [==============================] - 3s 697us/step - loss: 0.0018\n",
      "Epoch 5/100\n",
      "3933/3933 [==============================] - 3s 766us/step - loss: 0.0018\n",
      "Epoch 6/100\n",
      "3933/3933 [==============================] - 3s 770us/step - loss: 0.0018\n",
      "Epoch 7/100\n",
      "3933/3933 [==============================] - 3s 682us/step - loss: 0.0017 0s -\n",
      "Epoch 8/100\n",
      "3933/3933 [==============================] - 3s 679us/step - loss: 0.0015\n",
      "Epoch 9/100\n",
      "3933/3933 [==============================] - 3s 679us/step - loss: 0.0017\n",
      "Epoch 10/100\n",
      "3933/3933 [==============================] - 3s 681us/step - loss: 0.0016\n",
      "Epoch 11/100\n",
      "3933/3933 [==============================] - 3s 680us/step - loss: 0.0014\n",
      "Epoch 12/100\n",
      "3933/3933 [==============================] - 3s 686us/step - loss: 0.0014\n",
      "Epoch 13/100\n",
      "3933/3933 [==============================] - 3s 682us/step - loss: 0.0014\n",
      "Epoch 14/100\n",
      "3933/3933 [==============================] - 3s 685us/step - loss: 0.0012\n",
      "Epoch 15/100\n",
      "3933/3933 [==============================] - 3s 691us/step - loss: 0.0013\n",
      "Epoch 16/100\n",
      "3933/3933 [==============================] - 3s 697us/step - loss: 0.0014\n",
      "Epoch 17/100\n",
      "3933/3933 [==============================] - 3s 700us/step - loss: 0.0012\n",
      "Epoch 18/100\n",
      "3933/3933 [==============================] - 3s 700us/step - loss: 0.0011\n",
      "Epoch 19/100\n",
      "3933/3933 [==============================] - 3s 728us/step - loss: 0.0011\n",
      "Epoch 20/100\n",
      "3933/3933 [==============================] - 3s 711us/step - loss: 9.9679e-04\n",
      "Epoch 21/100\n",
      "3933/3933 [==============================] - 3s 705us/step - loss: 0.0011\n",
      "Epoch 22/100\n",
      "3933/3933 [==============================] - 3s 705us/step - loss: 0.0011\n",
      "Epoch 23/100\n",
      "3933/3933 [==============================] - 3s 710us/step - loss: 0.0010\n",
      "Epoch 24/100\n",
      "3933/3933 [==============================] - 3s 707us/step - loss: 9.9789e-04\n",
      "Epoch 25/100\n",
      "3933/3933 [==============================] - 3s 715us/step - loss: 0.0011\n",
      "Epoch 26/100\n",
      "3933/3933 [==============================] - 3s 717us/step - loss: 0.0010\n",
      "Epoch 27/100\n",
      "3933/3933 [==============================] - 3s 716us/step - loss: 9.4455e-04\n",
      "Epoch 28/100\n",
      "3933/3933 [==============================] - 3s 723us/step - loss: 9.2079e-04\n",
      "Epoch 29/100\n",
      "3933/3933 [==============================] - 3s 712us/step - loss: 8.8714e-04\n",
      "Epoch 30/100\n",
      "3933/3933 [==============================] - 3s 717us/step - loss: 0.0010\n",
      "Epoch 31/100\n",
      "3933/3933 [==============================] - 3s 715us/step - loss: 7.6442e-04\n",
      "Epoch 32/100\n",
      "3933/3933 [==============================] - 3s 716us/step - loss: 8.5312e-04\n",
      "Epoch 33/100\n",
      "3933/3933 [==============================] - 3s 707us/step - loss: 8.3434e-04\n",
      "Epoch 34/100\n",
      "3933/3933 [==============================] - 3s 680us/step - loss: 8.8004e-04\n",
      "Epoch 35/100\n",
      "3933/3933 [==============================] - 3s 679us/step - loss: 8.4970e-04\n",
      "Epoch 36/100\n",
      "3933/3933 [==============================] - 3s 683us/step - loss: 8.2595e-04\n",
      "Epoch 37/100\n",
      "3933/3933 [==============================] - 3s 697us/step - loss: 8.1527e-04\n",
      "Epoch 38/100\n",
      "3933/3933 [==============================] - 3s 673us/step - loss: 8.0328e-04\n",
      "Epoch 39/100\n",
      "3933/3933 [==============================] - 3s 681us/step - loss: 8.0014e-04\n",
      "Epoch 40/100\n",
      "3933/3933 [==============================] - 3s 709us/step - loss: 7.3532e-04\n",
      "Epoch 41/100\n",
      "3933/3933 [==============================] - 3s 681us/step - loss: 6.9660e-04\n",
      "Epoch 42/100\n",
      "3933/3933 [==============================] - 3s 675us/step - loss: 7.2089e-04\n",
      "Epoch 43/100\n",
      "3933/3933 [==============================] - 3s 682us/step - loss: 8.0691e-04\n",
      "Epoch 44/100\n",
      "3933/3933 [==============================] - 3s 705us/step - loss: 8.0458e-04\n",
      "Epoch 45/100\n",
      "3933/3933 [==============================] - 3s 722us/step - loss: 7.3937e-04\n",
      "Epoch 46/100\n",
      "3933/3933 [==============================] - 3s 720us/step - loss: 6.7100e-04\n",
      "Epoch 47/100\n",
      "3933/3933 [==============================] - 3s 713us/step - loss: 7.7347e-04\n",
      "Epoch 48/100\n",
      "3933/3933 [==============================] - 3s 726us/step - loss: 6.6607e-04\n",
      "Epoch 49/100\n",
      "3933/3933 [==============================] - 3s 728us/step - loss: 6.7703e-04\n",
      "Epoch 50/100\n",
      "3933/3933 [==============================] - 3s 718us/step - loss: 6.7917e-04\n",
      "Epoch 51/100\n",
      "3933/3933 [==============================] - 3s 722us/step - loss: 7.6491e-04\n",
      "Epoch 52/100\n",
      "3933/3933 [==============================] - 3s 731us/step - loss: 6.7449e-04\n",
      "Epoch 53/100\n",
      "3933/3933 [==============================] - 3s 712us/step - loss: 7.0979e-04\n",
      "Epoch 54/100\n",
      "3933/3933 [==============================] - 3s 719us/step - loss: 6.9811e-04\n",
      "Epoch 55/100\n",
      "3933/3933 [==============================] - 3s 710us/step - loss: 6.3788e-04\n",
      "Epoch 56/100\n",
      "3933/3933 [==============================] - 3s 708us/step - loss: 6.7184e-04\n",
      "Epoch 57/100\n",
      "3933/3933 [==============================] - 3s 697us/step - loss: 7.1040e-04\n",
      "Epoch 58/100\n",
      "3933/3933 [==============================] - 3s 695us/step - loss: 7.0203e-04\n",
      "Epoch 59/100\n",
      "3933/3933 [==============================] - 3s 713us/step - loss: 6.8899e-04\n",
      "Epoch 60/100\n",
      "3933/3933 [==============================] - 3s 708us/step - loss: 6.6120e-04\n",
      "Epoch 61/100\n",
      "3933/3933 [==============================] - 3s 701us/step - loss: 7.0274e-04\n",
      "Epoch 62/100\n",
      "3933/3933 [==============================] - 3s 706us/step - loss: 6.2888e-04\n",
      "Epoch 63/100\n",
      "3933/3933 [==============================] - 3s 706us/step - loss: 6.5479e-04\n",
      "Epoch 64/100\n",
      "3933/3933 [==============================] - 3s 699us/step - loss: 7.2936e-04\n",
      "Epoch 65/100\n",
      "3933/3933 [==============================] - 3s 712us/step - loss: 6.6153e-04\n",
      "Epoch 66/100\n",
      "3933/3933 [==============================] - 3s 711us/step - loss: 6.3147e-04\n",
      "Epoch 67/100\n",
      "3933/3933 [==============================] - 3s 707us/step - loss: 6.7004e-04 1s \n",
      "Epoch 68/100\n",
      "3933/3933 [==============================] - 3s 709us/step - loss: 7.0767e-04\n",
      "Epoch 69/100\n",
      "3933/3933 [==============================] - 3s 707us/step - loss: 6.3764e-04\n",
      "Epoch 70/100\n",
      "3933/3933 [==============================] - 3s 707us/step - loss: 7.4519e-04\n",
      "Epoch 71/100\n",
      "3933/3933 [==============================] - 3s 704us/step - loss: 6.1352e-04\n",
      "Epoch 72/100\n",
      "3933/3933 [==============================] - 3s 705us/step - loss: 6.8117e-04\n",
      "Epoch 73/100\n",
      "3933/3933 [==============================] - 3s 712us/step - loss: 6.3546e-04\n",
      "Epoch 74/100\n",
      "3933/3933 [==============================] - 3s 709us/step - loss: 6.0981e-04\n",
      "Epoch 75/100\n",
      "3933/3933 [==============================] - 3s 716us/step - loss: 6.1957e-04\n",
      "Epoch 76/100\n",
      "3933/3933 [==============================] - 3s 702us/step - loss: 6.5461e-04\n",
      "Epoch 77/100\n",
      "3933/3933 [==============================] - 3s 719us/step - loss: 6.6985e-04\n",
      "Epoch 78/100\n",
      "3933/3933 [==============================] - 3s 735us/step - loss: 6.8442e-04\n",
      "Epoch 79/100\n",
      "3933/3933 [==============================] - 3s 709us/step - loss: 5.7224e-04\n",
      "Epoch 80/100\n",
      "3933/3933 [==============================] - 3s 687us/step - loss: 6.5930e-04\n",
      "Epoch 81/100\n",
      "3933/3933 [==============================] - 3s 685us/step - loss: 6.5510e-04 1s - loss: 7.0575 - ETA: 0s - loss: - ETA: 0s - loss: 6.5384e\n",
      "Epoch 82/100\n",
      "3933/3933 [==============================] - 3s 697us/step - loss: 7.0593e-04\n",
      "Epoch 83/100\n",
      "3933/3933 [==============================] - 3s 683us/step - loss: 6.4745e-04 1s - loss: - ETA: 1s -\n",
      "Epoch 84/100\n",
      "3933/3933 [==============================] - 3s 837us/step - loss: 6.0708e-04\n",
      "Epoch 85/100\n",
      "3933/3933 [==============================] - 3s 847us/step - loss: 6.2888e-04\n",
      "Epoch 86/100\n",
      "3933/3933 [==============================] - 3s 781us/step - loss: 5.5485e-04\n",
      "Epoch 87/100\n",
      "3933/3933 [==============================] - 3s 795us/step - loss: 6.5071e-04\n",
      "Epoch 88/100\n",
      "3933/3933 [==============================] - 3s 812us/step - loss: 6.2381e-04\n",
      "Epoch 89/100\n",
      "3933/3933 [==============================] - 3s 769us/step - loss: 6.3642e-04\n",
      "Epoch 90/100\n",
      "3933/3933 [==============================] - 3s 798us/step - loss: 5.9481e-04\n",
      "Epoch 91/100\n",
      "3933/3933 [==============================] - 3s 737us/step - loss: 6.2069e-04\n",
      "Epoch 92/100\n",
      "3933/3933 [==============================] - 3s 729us/step - loss: 5.9391e-04\n",
      "Epoch 93/100\n",
      "3933/3933 [==============================] - 3s 745us/step - loss: 5.6894e-04\n",
      "Epoch 94/100\n",
      "3933/3933 [==============================] - 3s 724us/step - loss: 6.1516e-04\n",
      "Epoch 95/100\n",
      "3933/3933 [==============================] - 3s 736us/step - loss: 5.6996e-04\n",
      "Epoch 96/100\n",
      "3933/3933 [==============================] - 3s 741us/step - loss: 6.1708e-04\n",
      "Epoch 97/100\n",
      "3933/3933 [==============================] - 3s 726us/step - loss: 5.6422e-04\n",
      "Epoch 98/100\n",
      "3933/3933 [==============================] - 3s 745us/step - loss: 5.7045e-04\n",
      "Epoch 99/100\n",
      "3933/3933 [==============================] - 3s 748us/step - loss: 6.0317e-04\n",
      "Epoch 100/100\n",
      "3933/3933 [==============================] - 3s 755us/step - loss: 5.5026e-04\n"
     ]
    },
    {
     "data": {
      "text/plain": [
       "<keras.callbacks.callbacks.History at 0x141aa06a0>"
      ]
     },
     "execution_count": 157,
     "metadata": {},
     "output_type": "execute_result"
    }
   ],
   "source": [
    "# Optimizer\n",
    "model.compile(optimizer='adam', loss='mean_squared_error')\n",
    "model.fit(X_train, y_train, epochs=100, batch_size=50)"
   ]
  },
  {
   "cell_type": "code",
   "execution_count": 158,
   "metadata": {},
   "outputs": [],
   "source": [
    "dataset_total = dataset.iloc[:,5:6]"
   ]
  },
  {
   "cell_type": "code",
   "execution_count": 159,
   "metadata": {},
   "outputs": [],
   "source": [
    "inputs = dataset_total[len(dataset_total)-len(prices_dataset_test)-15:].values\n",
    "inputs = inputs.reshape(-1,1)"
   ]
  },
  {
   "cell_type": "code",
   "execution_count": 160,
   "metadata": {},
   "outputs": [],
   "source": [
    "inputs = min_max_scaler.transform(inputs)"
   ]
  },
  {
   "cell_type": "code",
   "execution_count": 161,
   "metadata": {},
   "outputs": [],
   "source": [
    "X_test = []"
   ]
  },
  {
   "cell_type": "code",
   "execution_count": 162,
   "metadata": {},
   "outputs": [],
   "source": [
    "for i in range(15,len(prices_dataset_test)+15):\n",
    "    X_test.append(inputs[i-15:i,0])"
   ]
  },
  {
   "cell_type": "code",
   "execution_count": 163,
   "metadata": {},
   "outputs": [],
   "source": [
    "X_test = np.array(X_test)\n",
    "X_test = np.reshape(X_test, (X_test.shape[0],X_test.shape[1],1))"
   ]
  },
  {
   "cell_type": "code",
   "execution_count": 164,
   "metadata": {},
   "outputs": [],
   "source": [
    "predictions = model.predict(X_test)"
   ]
  },
  {
   "cell_type": "code",
   "execution_count": 165,
   "metadata": {},
   "outputs": [],
   "source": [
    "predictions = min_max_scaler.inverse_transform(predictions)"
   ]
  },
  {
   "cell_type": "code",
   "execution_count": 166,
   "metadata": {},
   "outputs": [
    {
     "data": {
      "image/png": "[encoded data removed]",
      "text/plain": [
       "<Figure size 432x288 with 1 Axes>"
      ]
     },
     "metadata": {
      "needs_background": "light"
     },
     "output_type": "display_data"
    }
   ],
   "source": [
    "# Plotting\n",
    "plt.plot(testset, color='blue', label='Stock Price')\n",
    "plt.plot(predictions, color='green', label='LSTM Predictions')\n",
    "plt.title('Stock Price Prediction with RNN/LSTM')\n",
    "plt.xlabel('Time')\n",
    "plt.ylabel('Price')\n",
    "plt.legend()\n",
    "plt.show()"
   ]
  },
  {
   "cell_type": "code",
   "execution_count": null,
   "metadata": {},
   "outputs": [],
   "source": []
  }
 ],
 "metadata": {
  "kernelspec": {
   "display_name": "Python 3",
   "language": "python",
   "name": "python3"
  },
  "language_info": {
   "codemirror_mode": {
    "name": "ipython",
    "version": 3
   },
   "file_extension": ".py",
   "mimetype": "text/x-python",
   "name": "python",
   "nbconvert_exporter": "python",
   "pygments_lexer": "ipython3",
   "version": "3.7.3"
  }
 },
 "nbformat": 4,
 "nbformat_minor": 2
}
