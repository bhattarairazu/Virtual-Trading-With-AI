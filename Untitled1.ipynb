{
 "cells": [
  {
   "cell_type": "code",
   "execution_count": 3,
   "metadata": {},
   "outputs": [
    {
     "name": "stdout",
     "output_type": "stream",
     "text": [
      "         Date    Open    High     Low    Last   Close  Total Trade Quantity  \\\n",
      "0  2018-10-08  208.00  222.25  206.85  216.00  215.15             4642146.0   \n",
      "1  2018-10-05  217.00  218.60  205.90  210.25  209.20             3519515.0   \n",
      "2  2018-10-04  223.50  227.80  216.15  217.25  218.20             1728786.0   \n",
      "3  2018-10-03  230.00  237.50  225.75  226.45  227.60             1708590.0   \n",
      "4  2018-10-01  234.55  234.60  221.05  230.30  230.90             1534749.0   \n",
      "\n",
      "   Turnover (Lacs)  \n",
      "0         10062.83  \n",
      "1          7407.06  \n",
      "2          3815.79  \n",
      "3          3960.27  \n",
      "4          3486.05  \n",
      "\n",
      " Shape of the data: \n",
      "(1235, 8)\n",
      "\n",
      " Shape of training set:\n",
      "(987, 2)\n",
      "\n",
      " Shape of validation set:\n",
      "(248, 2)\n",
      "\n",
      " RMSE value on validation set:\n",
      "104.51415465984348\n"
     ]
    }
   ],
   "source": [
    "import pandas as pd\n",
    "import numpy as np\n",
    "import matplotlib.pyplot as plt\n",
    "%matplotlib inline\n",
    "\n",
    "# reading the data\n",
    "df = pd.read_csv('NSE-TATAGLOBAL11.csv')\n",
    "print(df.head())\n",
    "print('\\n Shape of the data: ')\n",
    "print(df.shape)\n",
    "\n",
    "# setting the index as Date\n",
    "df['Date'] = pd.to_datetime(df.Date, format='%Y-%m-%d')\n",
    "df.index = df['Date']\n",
    "\n",
    "#creating dataframe with date and target variable\n",
    "data = df.sort_index(ascending=True, axis=0)\n",
    "new_data = pd.DataFrame(index=range(0,len(df)),columns=['Date','Close'])\n",
    "\n",
    "for i in range(0,len(data)):\n",
    "    new_data['Date'][i] = data['Date'][i]\n",
    "    new_data['Close'][i] = data['Close'][i]\n",
    "\n",
    "train = new_data[:987]\n",
    "valid = new_data[987:]\n",
    "\n",
    "#shapes of training set\n",
    "print('\\n Shape of training set:')\n",
    "print(train.shape)\n",
    "\n",
    "#shapes of validation set\n",
    "print('\\n Shape of validation set:')\n",
    "print(valid.shape)\n",
    "\n",
    "preds=[]\n",
    "for i in range(0,valid.shape[0]):\n",
    "    a = train['Close'][len(train)-248+i:].sum() + sum(preds)\n",
    "    b = a/248\n",
    "    preds.append(b)\n",
    "\n",
    "rms = np.sqrt(np.mean(np.power((np.array(valid['Close'])-preds),2)))\n",
    "print('\\n RMSE value on validation set:')\n",
    "print(rms)\n",
    "\n",
    "\n",
    "\n",
    "\n"
   ]
  },
  {
   "cell_type": "code",
   "execution_count": 4,
   "metadata": {},
   "outputs": [
    {
     "name": "stderr",
     "output_type": "stream",
     "text": [
      "/anaconda3/lib/python3.7/site-packages/ipykernel_launcher.py:2: SettingWithCopyWarning: \n",
      "A value is trying to be set on a copy of a slice from a DataFrame.\n",
      "Try using .loc[row_indexer,col_indexer] = value instead\n",
      "\n",
      "See the caveats in the documentation: http://pandas.pydata.org/pandas-docs/stable/indexing.html#indexing-view-versus-copy\n",
      "  \n",
      "/anaconda3/lib/python3.7/site-packages/ipykernel_launcher.py:3: SettingWithCopyWarning: \n",
      "A value is trying to be set on a copy of a slice from a DataFrame.\n",
      "Try using .loc[row_indexer,col_indexer] = value instead\n",
      "\n",
      "See the caveats in the documentation: http://pandas.pydata.org/pandas-docs/stable/indexing.html#indexing-view-versus-copy\n",
      "  This is separate from the ipykernel package so we can avoid doing imports until\n"
     ]
    },
    {
     "data": {
      "text/plain": [
       "[<matplotlib.lines.Line2D at 0x116a68240>,\n",
       " <matplotlib.lines.Line2D at 0x116a683c8>]"
      ]
     },
     "execution_count": 4,
     "metadata": {},
     "output_type": "execute_result"
    },
    {
     "data": {
      "image/png": "[encoded data removed]",
      "text/plain": [
       "<Figure size 432x288 with 1 Axes>"
      ]
     },
     "metadata": {
      "needs_background": "light"
     },
     "output_type": "display_data"
    }
   ],
   "source": [
    "#plot\n",
    "valid['Predictions']=0\n",
    "valid['Predictions']=preds\n",
    "plt.plot(train['Close'])\n",
    "plt.plot(valid[['Close','Predictions']])"
   ]
  },
  {
   "cell_type": "code",
   "execution_count": null,
   "metadata": {},
   "outputs": [],
   "source": []
  }
 ],
 "metadata": {
  "kernelspec": {
   "display_name": "Python 3",
   "language": "python",
   "name": "python3"
  },
  "language_info": {
   "codemirror_mode": {
    "name": "ipython",
    "version": 3
   },
   "file_extension": ".py",
   "mimetype": "text/x-python",
   "name": "python",
   "nbconvert_exporter": "python",
   "pygments_lexer": "ipython3",
   "version": "3.7.3"
  }
 },
 "nbformat": 4,
 "nbformat_minor": 2
}
