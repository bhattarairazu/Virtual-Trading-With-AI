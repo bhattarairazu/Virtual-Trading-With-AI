{
 "cells": [
  {
   "cell_type": "code",
   "execution_count": 1,
   "metadata": {},
   "outputs": [],
   "source": [
    "# Importing Libraries\n",
    "import numpy as np\n",
    "import pandas as pd\n",
    "from keras.layers import Dense\n",
    "from keras.layers import Dropout\n",
    "from keras.layers import LSTM\n",
    "from keras.models import Sequential\n",
    "from sklearn.preprocessing import MinMaxScaler\n",
    "import matplotlib.pyplot as plt\n",
    "%matplotlib inline"
   ]
  },
  {
   "cell_type": "code",
   "execution_count": 2,
   "metadata": {},
   "outputs": [],
   "source": [
    "dataset = pd.read_csv('fyp.csv')"
   ]
  },
  {
   "cell_type": "code",
   "execution_count": 3,
   "metadata": {},
   "outputs": [
    {
     "data": {
      "text/plain": [
       "(4935, 7)"
      ]
     },
     "execution_count": 3,
     "metadata": {},
     "output_type": "execute_result"
    }
   ],
   "source": [
    "dataset.shape"
   ]
  },
  {
   "cell_type": "code",
   "execution_count": 4,
   "metadata": {},
   "outputs": [],
   "source": [
    "prices_dataset_train = dataset.iloc[:3948,:]\n",
    "prices_dataset_test = dataset.iloc[3949:,:]"
   ]
  },
  {
   "cell_type": "code",
   "execution_count": 5,
   "metadata": {},
   "outputs": [],
   "source": [
    "trainingset = dataset.iloc[:3948,5:6].values\n",
    "testset = dataset.iloc[3949:,5:6].values"
   ]
  },
  {
   "cell_type": "code",
   "execution_count": 6,
   "metadata": {},
   "outputs": [],
   "source": [
    "# Normalization\n",
    "min_max_scaler = MinMaxScaler(feature_range=(0,1))\n",
    "scaled_trainingset = min_max_scaler.fit_transform(trainingset)"
   ]
  },
  {
   "cell_type": "code",
   "execution_count": 7,
   "metadata": {},
   "outputs": [],
   "source": [
    "X_train = []\n",
    "y_train = []"
   ]
  },
  {
   "cell_type": "code",
   "execution_count": 8,
   "metadata": {},
   "outputs": [],
   "source": [
    "for i in range(40,3948):\n",
    "    X_train.append(scaled_trainingset[i-40:i,0])\n",
    "    y_train.append(scaled_trainingset[i,0])"
   ]
  },
  {
   "cell_type": "code",
   "execution_count": 9,
   "metadata": {},
   "outputs": [],
   "source": [
    "X_train = np.array(X_train)\n",
    "y_train = np.array(y_train)"
   ]
  },
  {
   "cell_type": "code",
   "execution_count": 10,
   "metadata": {},
   "outputs": [],
   "source": [
    "X_train = np.reshape(X_train, (X_train.shape[0],X_train.shape[1],1))"
   ]
  },
  {
   "cell_type": "code",
   "execution_count": 11,
   "metadata": {},
   "outputs": [],
   "source": [
    "# LSTM MODEL\n",
    "# Architecture"
   ]
  },
  {
   "cell_type": "code",
   "execution_count": 12,
   "metadata": {},
   "outputs": [
    {
     "name": "stdout",
     "output_type": "stream",
     "text": [
      "WARNING:tensorflow:From /anaconda3/lib/python3.7/site-packages/tensorflow/python/ops/resource_variable_ops.py:435: colocate_with (from tensorflow.python.framework.ops) is deprecated and will be removed in a future version.\n",
      "Instructions for updating:\n",
      "Colocations handled automatically by placer.\n"
     ]
    }
   ],
   "source": [
    "model = Sequential()\n",
    "model.add(LSTM(units=100, return_sequences=True, input_shape=(X_train.shape[1],1)))\n",
    "model.add(Dropout(0.5))\n",
    "model.add(LSTM(units=50, return_sequences=True))\n",
    "model.add(Dropout(0.3))\n",
    "model.add(LSTM(units=50))\n",
    "model.add(Dropout(0.3))\n",
    "model.add(Dense(units=1))"
   ]
  },
  {
   "cell_type": "code",
   "execution_count": 13,
   "metadata": {},
   "outputs": [
    {
     "name": "stdout",
     "output_type": "stream",
     "text": [
      "WARNING:tensorflow:From /anaconda3/lib/python3.7/site-packages/tensorflow/python/ops/math_ops.py:3066: to_int32 (from tensorflow.python.ops.math_ops) is deprecated and will be removed in a future version.\n",
      "Instructions for updating:\n",
      "Use tf.cast instead.\n",
      "Epoch 1/100\n",
      "3908/3908 [==============================] - 8s 2ms/step - loss: 0.0067\n",
      "Epoch 2/100\n",
      "3908/3908 [==============================] - 7s 2ms/step - loss: 0.0026\n",
      "Epoch 3/100\n",
      "3908/3908 [==============================] - 7s 2ms/step - loss: 0.0022\n",
      "Epoch 4/100\n",
      "3908/3908 [==============================] - 8s 2ms/step - loss: 0.0023\n",
      "Epoch 5/100\n",
      "3908/3908 [==============================] - 9s 2ms/step - loss: 0.0019\n",
      "Epoch 6/100\n",
      "3908/3908 [==============================] - 7s 2ms/step - loss: 0.0017\n",
      "Epoch 7/100\n",
      "3908/3908 [==============================] - 8s 2ms/step - loss: 0.0018\n",
      "Epoch 8/100\n",
      "3908/3908 [==============================] - 7s 2ms/step - loss: 0.0016\n",
      "Epoch 9/100\n",
      "3908/3908 [==============================] - 7s 2ms/step - loss: 0.0015\n",
      "Epoch 10/100\n",
      "3908/3908 [==============================] - 8s 2ms/step - loss: 0.0013\n",
      "Epoch 11/100\n",
      "3908/3908 [==============================] - 7s 2ms/step - loss: 0.0014\n",
      "Epoch 12/100\n",
      "3908/3908 [==============================] - 7s 2ms/step - loss: 0.0012\n",
      "Epoch 13/100\n",
      "3908/3908 [==============================] - 7s 2ms/step - loss: 0.0014\n",
      "Epoch 14/100\n",
      "3908/3908 [==============================] - 8s 2ms/step - loss: 0.0012\n",
      "Epoch 15/100\n",
      "3908/3908 [==============================] - 7s 2ms/step - loss: 0.0013\n",
      "Epoch 16/100\n",
      "3908/3908 [==============================] - 7s 2ms/step - loss: 0.0011\n",
      "Epoch 17/100\n",
      "3908/3908 [==============================] - 7s 2ms/step - loss: 0.0011\n",
      "Epoch 18/100\n",
      "3908/3908 [==============================] - 7s 2ms/step - loss: 0.0012\n",
      "Epoch 19/100\n",
      "3908/3908 [==============================] - 7s 2ms/step - loss: 0.0011\n",
      "Epoch 20/100\n",
      "3908/3908 [==============================] - 7s 2ms/step - loss: 0.0011\n",
      "Epoch 21/100\n",
      "3908/3908 [==============================] - 7s 2ms/step - loss: 0.0011\n",
      "Epoch 22/100\n",
      "3908/3908 [==============================] - 7s 2ms/step - loss: 0.0010\n",
      "Epoch 23/100\n",
      "3908/3908 [==============================] - 7s 2ms/step - loss: 0.0011\n",
      "Epoch 24/100\n",
      "3908/3908 [==============================] - 7s 2ms/step - loss: 0.0011\n",
      "Epoch 25/100\n",
      "3908/3908 [==============================] - 7s 2ms/step - loss: 0.0012\n",
      "Epoch 26/100\n",
      "3908/3908 [==============================] - 7s 2ms/step - loss: 9.4559e-04\n",
      "Epoch 27/100\n",
      "3908/3908 [==============================] - 7s 2ms/step - loss: 9.7129e-04\n",
      "Epoch 28/100\n",
      "3908/3908 [==============================] - 7s 2ms/step - loss: 9.2289e-04\n",
      "Epoch 29/100\n",
      "3908/3908 [==============================] - 8s 2ms/step - loss: 0.0010\n",
      "Epoch 30/100\n",
      "3908/3908 [==============================] - 9s 2ms/step - loss: 8.6560e-04\n",
      "Epoch 31/100\n",
      "3908/3908 [==============================] - 7s 2ms/step - loss: 9.6972e-04\n",
      "Epoch 32/100\n",
      "3908/3908 [==============================] - 8s 2ms/step - loss: 9.3146e-04\n",
      "Epoch 33/100\n",
      "3908/3908 [==============================] - 7s 2ms/step - loss: 9.8604e-04\n",
      "Epoch 34/100\n",
      "3908/3908 [==============================] - 7s 2ms/step - loss: 0.0010\n",
      "Epoch 35/100\n",
      "3908/3908 [==============================] - 8s 2ms/step - loss: 9.8357e-04\n",
      "Epoch 36/100\n",
      "3908/3908 [==============================] - 7s 2ms/step - loss: 0.0010\n",
      "Epoch 37/100\n",
      "3908/3908 [==============================] - 8s 2ms/step - loss: 9.1836e-04\n",
      "Epoch 38/100\n",
      "3908/3908 [==============================] - 8s 2ms/step - loss: 9.6421e-04\n",
      "Epoch 39/100\n",
      "3908/3908 [==============================] - 7s 2ms/step - loss: 0.0010\n",
      "Epoch 40/100\n",
      "3908/3908 [==============================] - 7s 2ms/step - loss: 9.8434e-04\n",
      "Epoch 41/100\n",
      "3908/3908 [==============================] - 8s 2ms/step - loss: 0.0010\n",
      "Epoch 42/100\n",
      "3908/3908 [==============================] - 7s 2ms/step - loss: 9.0907e-04\n",
      "Epoch 43/100\n",
      "3908/3908 [==============================] - 7s 2ms/step - loss: 0.0010\n",
      "Epoch 44/100\n",
      "3908/3908 [==============================] - 7s 2ms/step - loss: 9.6521e-04\n",
      "Epoch 45/100\n",
      "3908/3908 [==============================] - 7s 2ms/step - loss: 9.2714e-04\n",
      "Epoch 46/100\n",
      "3908/3908 [==============================] - 7s 2ms/step - loss: 9.3800e-04\n",
      "Epoch 47/100\n",
      "3908/3908 [==============================] - 7s 2ms/step - loss: 0.0010\n",
      "Epoch 48/100\n",
      "3908/3908 [==============================] - 7s 2ms/step - loss: 9.7358e-04\n",
      "Epoch 49/100\n",
      "3908/3908 [==============================] - 7s 2ms/step - loss: 8.6443e-04\n",
      "Epoch 50/100\n",
      "3908/3908 [==============================] - 7s 2ms/step - loss: 9.1470e-04\n",
      "Epoch 51/100\n",
      "3908/3908 [==============================] - 7s 2ms/step - loss: 9.4772e-04\n",
      "Epoch 52/100\n",
      "3908/3908 [==============================] - 7s 2ms/step - loss: 8.6932e-04\n",
      "Epoch 53/100\n",
      "3908/3908 [==============================] - 7s 2ms/step - loss: 8.3580e-04\n",
      "Epoch 54/100\n",
      "3908/3908 [==============================] - 7s 2ms/step - loss: 9.4976e-04\n",
      "Epoch 55/100\n",
      "3908/3908 [==============================] - 7s 2ms/step - loss: 9.2136e-04\n",
      "Epoch 56/100\n",
      "3908/3908 [==============================] - 7s 2ms/step - loss: 8.9798e-04\n",
      "Epoch 57/100\n",
      "3908/3908 [==============================] - 7s 2ms/step - loss: 8.8929e-04\n",
      "Epoch 58/100\n",
      "3908/3908 [==============================] - 8s 2ms/step - loss: 9.2789e-04\n",
      "Epoch 59/100\n",
      "3908/3908 [==============================] - 7s 2ms/step - loss: 9.7754e-04\n",
      "Epoch 60/100\n",
      "3908/3908 [==============================] - 7s 2ms/step - loss: 8.6233e-04\n",
      "Epoch 61/100\n",
      "3908/3908 [==============================] - 7s 2ms/step - loss: 8.4513e-04\n",
      "Epoch 62/100\n",
      "3908/3908 [==============================] - 7s 2ms/step - loss: 9.2155e-04\n",
      "Epoch 63/100\n",
      "3908/3908 [==============================] - 7s 2ms/step - loss: 8.2299e-04\n",
      "Epoch 64/100\n",
      "3908/3908 [==============================] - 7s 2ms/step - loss: 8.1915e-04\n",
      "Epoch 65/100\n",
      "3908/3908 [==============================] - 7s 2ms/step - loss: 8.7792e-04\n",
      "Epoch 66/100\n",
      "3908/3908 [==============================] - 7s 2ms/step - loss: 8.4700e-04\n",
      "Epoch 67/100\n",
      "3908/3908 [==============================] - 7s 2ms/step - loss: 8.2241e-04\n",
      "Epoch 68/100\n",
      "3908/3908 [==============================] - 7s 2ms/step - loss: 8.9917e-04\n",
      "Epoch 69/100\n",
      "3908/3908 [==============================] - 7s 2ms/step - loss: 8.8764e-04\n",
      "Epoch 70/100\n",
      "3908/3908 [==============================] - 9s 2ms/step - loss: 8.6981e-04\n",
      "Epoch 71/100\n",
      "3908/3908 [==============================] - 7s 2ms/step - loss: 8.5124e-04\n",
      "Epoch 72/100\n",
      "3908/3908 [==============================] - 8s 2ms/step - loss: 8.7983e-04\n",
      "Epoch 73/100\n",
      "3908/3908 [==============================] - 7s 2ms/step - loss: 8.5116e-04\n",
      "Epoch 74/100\n",
      "3908/3908 [==============================] - 7s 2ms/step - loss: 8.7981e-04\n",
      "Epoch 75/100\n",
      "3908/3908 [==============================] - 7s 2ms/step - loss: 8.3060e-04\n",
      "Epoch 76/100\n",
      "3908/3908 [==============================] - 7s 2ms/step - loss: 8.1476e-04\n",
      "Epoch 77/100\n",
      "3908/3908 [==============================] - 7s 2ms/step - loss: 8.2719e-04\n",
      "Epoch 78/100\n",
      "3908/3908 [==============================] - 7s 2ms/step - loss: 8.6189e-04\n",
      "Epoch 79/100\n",
      "3908/3908 [==============================] - 7s 2ms/step - loss: 8.2860e-04\n",
      "Epoch 80/100\n",
      "3908/3908 [==============================] - 7s 2ms/step - loss: 9.0853e-04\n",
      "Epoch 81/100\n",
      "3908/3908 [==============================] - 7s 2ms/step - loss: 8.5706e-04\n",
      "Epoch 82/100\n",
      "3908/3908 [==============================] - 7s 2ms/step - loss: 7.8284e-04\n",
      "Epoch 83/100\n",
      "3908/3908 [==============================] - 7s 2ms/step - loss: 7.8226e-04\n",
      "Epoch 84/100\n",
      "3908/3908 [==============================] - 7s 2ms/step - loss: 7.9212e-04\n",
      "Epoch 85/100\n",
      "3908/3908 [==============================] - 7s 2ms/step - loss: 8.4729e-04\n",
      "Epoch 86/100\n",
      "3908/3908 [==============================] - 7s 2ms/step - loss: 7.8762e-04\n",
      "Epoch 87/100\n",
      "3908/3908 [==============================] - 7s 2ms/step - loss: 8.0608e-04\n",
      "Epoch 88/100\n",
      "3908/3908 [==============================] - 7s 2ms/step - loss: 8.3836e-04\n",
      "Epoch 89/100\n",
      "3908/3908 [==============================] - 7s 2ms/step - loss: 0.0010\n",
      "Epoch 90/100\n",
      "3908/3908 [==============================] - 7s 2ms/step - loss: 7.9829e-04\n",
      "Epoch 91/100\n"
     ]
    },
    {
     "name": "stdout",
     "output_type": "stream",
     "text": [
      "3908/3908 [==============================] - 7s 2ms/step - loss: 7.5991e-04\n",
      "Epoch 92/100\n",
      "3908/3908 [==============================] - 7s 2ms/step - loss: 7.5770e-04\n",
      "Epoch 93/100\n",
      "3908/3908 [==============================] - 7s 2ms/step - loss: 8.4819e-04\n",
      "Epoch 94/100\n",
      "3908/3908 [==============================] - 376s 96ms/step - loss: 8.0528e-04\n",
      "Epoch 95/100\n",
      "3908/3908 [==============================] - 7s 2ms/step - loss: 8.0840e-04\n",
      "Epoch 96/100\n",
      "3908/3908 [==============================] - 8s 2ms/step - loss: 8.5046e-04\n",
      "Epoch 97/100\n",
      "3908/3908 [==============================] - 8s 2ms/step - loss: 8.2047e-04\n",
      "Epoch 98/100\n",
      "3908/3908 [==============================] - 8s 2ms/step - loss: 8.4962e-04\n",
      "Epoch 99/100\n",
      "3908/3908 [==============================] - 8s 2ms/step - loss: 8.1922e-04\n",
      "Epoch 100/100\n",
      "3908/3908 [==============================] - 8s 2ms/step - loss: 8.1169e-04\n"
     ]
    },
    {
     "data": {
      "text/plain": [
       "<keras.callbacks.callbacks.History at 0x13fb3c668>"
      ]
     },
     "execution_count": 13,
     "metadata": {},
     "output_type": "execute_result"
    }
   ],
   "source": [
    "# Optimizer\n",
    "model.compile(optimizer='adam',loss='mean_squared_error')\n",
    "model.fit(X_train, y_train, epochs=100, batch_size=32)"
   ]
  },
  {
   "cell_type": "code",
   "execution_count": 14,
   "metadata": {},
   "outputs": [],
   "source": [
    "dataset_total = dataset.iloc[:,5:6]"
   ]
  },
  {
   "cell_type": "code",
   "execution_count": 17,
   "metadata": {},
   "outputs": [],
   "source": [
    "inputs = dataset_total[len(dataset_total)-len(prices_dataset_test)-40:].values\n",
    "inputs = inputs.reshape(-1,1)"
   ]
  },
  {
   "cell_type": "code",
   "execution_count": 18,
   "metadata": {},
   "outputs": [],
   "source": [
    "inputs = min_max_scaler.transform(inputs)"
   ]
  },
  {
   "cell_type": "code",
   "execution_count": 19,
   "metadata": {},
   "outputs": [],
   "source": [
    "X_test = []"
   ]
  },
  {
   "cell_type": "code",
   "execution_count": 20,
   "metadata": {},
   "outputs": [],
   "source": [
    "for i in range(40,len(prices_dataset_test)+40):\n",
    "    X_test.append(inputs[i-40:i,0])"
   ]
  },
  {
   "cell_type": "code",
   "execution_count": 21,
   "metadata": {},
   "outputs": [],
   "source": [
    "X_test = np.array(X_test)\n",
    "X_test = np.reshape(X_test, (X_test.shape[0],X_test.shape[1],1))"
   ]
  },
  {
   "cell_type": "code",
   "execution_count": 22,
   "metadata": {},
   "outputs": [],
   "source": [
    "predictions = model.predict(X_test)"
   ]
  },
  {
   "cell_type": "code",
   "execution_count": 23,
   "metadata": {},
   "outputs": [],
   "source": [
    "predictions = min_max_scaler.inverse_transform(predictions)"
   ]
  },
  {
   "cell_type": "code",
   "execution_count": 24,
   "metadata": {},
   "outputs": [
    {
     "data": {
      "image/png": "[encoded data removed]",
      "text/plain": [
       "<Figure size 432x288 with 1 Axes>"
      ]
     },
     "metadata": {
      "needs_background": "light"
     },
     "output_type": "display_data"
    }
   ],
   "source": [
    "# Plotting\n",
    "plt.plot(testset, color='blue', label='Stock Price')\n",
    "plt.plot(predictions, color='green', label='LSTM Predictions')\n",
    "plt.title('Stock Price Prediction with RNN/LSTM')\n",
    "plt.xlabel('Time')\n",
    "plt.ylabel('Price')\n",
    "plt.legend()\n",
    "plt.show()"
   ]
  },
  {
   "cell_type": "code",
   "execution_count": null,
   "metadata": {},
   "outputs": [],
   "source": []
  }
 ],
 "metadata": {
  "kernelspec": {
   "display_name": "Python 3",
   "language": "python",
   "name": "python3"
  },
  "language_info": {
   "codemirror_mode": {
    "name": "ipython",
    "version": 3
   },
   "file_extension": ".py",
   "mimetype": "text/x-python",
   "name": "python",
   "nbconvert_exporter": "python",
   "pygments_lexer": "ipython3",
   "version": "3.7.3"
  }
 },
 "nbformat": 4,
 "nbformat_minor": 2
}
